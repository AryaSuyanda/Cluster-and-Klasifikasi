{
  "nbformat": 4,
  "nbformat_minor": 0,
  "metadata": {
    "colab": {
      "provenance": []
    },
    "kernelspec": {
      "name": "python3",
      "display_name": "Python 3"
    },
    "language_info": {
      "name": "python"
    }
  },
  "cells": [
    {
      "cell_type": "markdown",
      "source": [
        "# **1. Import Library**"
      ],
      "metadata": {
        "id": "fKADPWcFKlj3"
      }
    },
    {
      "cell_type": "markdown",
      "source": [
        "Pada tahap ini, Anda perlu mengimpor beberapa pustaka (library) Python yang dibutuhkan untuk analisis data dan pembangunan model machine learning."
      ],
      "metadata": {
        "id": "LgA3ERnVn84N"
      }
    },
    {
      "cell_type": "code",
      "source": [
        "# Import pustaka yang dibutuhkan\n",
        "import pandas as pd\n",
        "import numpy as np\n",
        "import matplotlib.pyplot as plt\n",
        "import seaborn as sns\n",
        "\n",
        "# Pustaka untuk klasifikasi\n",
        "from sklearn.model_selection import train_test_split\n",
        "from sklearn.preprocessing import StandardScaler\n",
        "from sklearn.ensemble import RandomForestClassifier\n",
        "from sklearn.metrics import accuracy_score, confusion_matrix, classification_report\n",
        "\n",
        "# Pustaka untuk validasi model\n",
        "from sklearn.model_selection import cross_val_score\n"
      ],
      "metadata": {
        "id": "BlmvjLY9M4Yj"
      },
      "execution_count": 1,
      "outputs": []
    },
    {
      "cell_type": "markdown",
      "source": [
        "# **2. Memuat Dataset dari Hasil Clustering**"
      ],
      "metadata": {
        "id": "f3YIEnAFKrKL"
      }
    },
    {
      "cell_type": "markdown",
      "source": [
        "Memuat dataset hasil clustering dari file CSV ke dalam variabel DataFrame."
      ],
      "metadata": {
        "id": "Ey3ItwTen_7E"
      }
    },
    {
      "cell_type": "code",
      "source": [
        "import pandas as pd\n",
        "\n",
        "# Memuat dataset\n",
        "df = pd.read_csv('bank.csv')\n",
        "\n",
        "# Pastikan bahwa dataset telah dimuat dengan benar\n",
        "print(df.head())\n"
      ],
      "metadata": {
        "id": "GHCGNTyrM5fS",
        "colab": {
          "base_uri": "https://localhost:8080/"
        },
        "outputId": "840fd1ee-0d09-4f26-ff56-479036eb5458"
      },
      "execution_count": 5,
      "outputs": [
        {
          "output_type": "stream",
          "name": "stdout",
          "text": [
            "  TransactionID AccountID  TransactionAmount      TransactionDate  \\\n",
            "0      TX000001   AC00128              14.09  2023-04-11 16:29:14   \n",
            "1      TX000002   AC00455             376.24  2023-06-27 16:44:19   \n",
            "2      TX000003   AC00019             126.29  2023-07-10 18:16:08   \n",
            "3      TX000004   AC00070             184.50  2023-05-05 16:32:11   \n",
            "4      TX000005   AC00411              13.45  2023-10-16 17:51:24   \n",
            "\n",
            "  TransactionType   Location DeviceID      IP Address MerchantID Channel  \\\n",
            "0           Debit  San Diego  D000380  162.198.218.92       M015     ATM   \n",
            "1           Debit    Houston  D000051     13.149.61.4       M052     ATM   \n",
            "2           Debit       Mesa  D000235  215.97.143.157       M009  Online   \n",
            "3           Debit    Raleigh  D000187  200.13.225.150       M002  Online   \n",
            "4          Credit    Atlanta  D000308    65.164.3.100       M091  Online   \n",
            "\n",
            "   CustomerAge CustomerOccupation  TransactionDuration  LoginAttempts  \\\n",
            "0           70             Doctor                   81              1   \n",
            "1           68             Doctor                  141              1   \n",
            "2           19            Student                   56              1   \n",
            "3           26            Student                   25              1   \n",
            "4           26            Student                  198              1   \n",
            "\n",
            "   AccountBalance PreviousTransactionDate  \n",
            "0         5112.21     2024-11-04 08:08:08  \n",
            "1        13758.91     2024-11-04 08:09:35  \n",
            "2         1122.35     2024-11-04 08:07:04  \n",
            "3         8569.06     2024-11-04 08:09:06  \n",
            "4         7429.40     2024-11-04 08:06:39  \n"
          ]
        }
      ]
    },
    {
      "cell_type": "markdown",
      "source": [
        "# **3. Data Splitting**"
      ],
      "metadata": {
        "id": "KkPem5eWL2UP"
      }
    },
    {
      "cell_type": "code",
      "source": [
        "from sklearn.cluster import KMeans\n",
        "from sklearn.preprocessing import StandardScaler\n",
        "\n",
        "# Menyiapkan fitur numerik\n",
        "numerical_cols = ['TransactionAmount', 'TransactionDuration', 'CustomerAge', 'LoginAttempts', 'AccountBalance']\n",
        "\n",
        "# Menstandarisasi data numerik\n",
        "scaler = StandardScaler()\n",
        "df_scaled = scaler.fit_transform(df[numerical_cols])\n",
        "\n",
        "# Melatih model KMeans dengan jumlah cluster yang optimal\n",
        "kmeans = KMeans(n_clusters=3, init='k-means++', max_iter=300, n_init=10, random_state=42)\n",
        "df['Cluster'] = kmeans.fit_predict(df_scaled)\n",
        "\n",
        "# Menampilkan dataset setelah penambahan cluster\n",
        "print(df.head())\n"
      ],
      "metadata": {
        "colab": {
          "base_uri": "https://localhost:8080/"
        },
        "id": "aSJ1hlAls4fJ",
        "outputId": "6ab6fbef-df5a-48d0-b114-a97e87e538d2"
      },
      "execution_count": 10,
      "outputs": [
        {
          "output_type": "stream",
          "name": "stdout",
          "text": [
            "  TransactionID AccountID  TransactionAmount      TransactionDate  \\\n",
            "0      TX000001   AC00128              14.09  2023-04-11 16:29:14   \n",
            "1      TX000002   AC00455             376.24  2023-06-27 16:44:19   \n",
            "2      TX000003   AC00019             126.29  2023-07-10 18:16:08   \n",
            "3      TX000004   AC00070             184.50  2023-05-05 16:32:11   \n",
            "4      TX000005   AC00411              13.45  2023-10-16 17:51:24   \n",
            "\n",
            "  TransactionType   Location DeviceID      IP Address MerchantID Channel  \\\n",
            "0           Debit  San Diego  D000380  162.198.218.92       M015     ATM   \n",
            "1           Debit    Houston  D000051     13.149.61.4       M052     ATM   \n",
            "2           Debit       Mesa  D000235  215.97.143.157       M009  Online   \n",
            "3           Debit    Raleigh  D000187  200.13.225.150       M002  Online   \n",
            "4          Credit    Atlanta  D000308    65.164.3.100       M091  Online   \n",
            "\n",
            "   CustomerAge CustomerOccupation  TransactionDuration  LoginAttempts  \\\n",
            "0           70             Doctor                   81              1   \n",
            "1           68             Doctor                  141              1   \n",
            "2           19            Student                   56              1   \n",
            "3           26            Student                   25              1   \n",
            "4           26            Student                  198              1   \n",
            "\n",
            "   AccountBalance PreviousTransactionDate  Cluster  \n",
            "0         5112.21     2024-11-04 08:08:08        0  \n",
            "1        13758.91     2024-11-04 08:09:35        0  \n",
            "2         1122.35     2024-11-04 08:07:04        0  \n",
            "3         8569.06     2024-11-04 08:09:06        0  \n",
            "4         7429.40     2024-11-04 08:06:39        0  \n"
          ]
        }
      ]
    },
    {
      "cell_type": "markdown",
      "source": [
        "Tahap Data Splitting bertujuan untuk memisahkan dataset menjadi dua bagian: data latih (training set) dan data uji (test set)."
      ],
      "metadata": {
        "id": "YYj1rl_JNI9Y"
      }
    },
    {
      "cell_type": "code",
      "source": [
        "from sklearn.model_selection import train_test_split\n",
        "from sklearn.preprocessing import LabelEncoder\n",
        "\n",
        "# Memisahkan fitur dan target\n",
        "X = df.drop(columns=['TransactionID', 'AccountID', 'TransactionDate', 'PreviousTransactionDate', 'Cluster'])  # Fitur\n",
        "y = df['Cluster']  # Target yang ingin diprediksi, menggunakan label cluster dari clustering\n",
        "\n",
        "# Menangani fitur kategorikal dengan LabelEncoder untuk kolom yang tidak numerik\n",
        "categorical_cols = X.select_dtypes(include=['object']).columns\n",
        "\n",
        "label_encoder = LabelEncoder()\n",
        "for col in categorical_cols:\n",
        "    X[col] = label_encoder.fit_transform(X[col])\n",
        "\n",
        "# Pastikan tidak ada nilai kosong (NaN) dalam data\n",
        "X = X.fillna(0)\n",
        "y = y.fillna(0)\n",
        "\n",
        "# Membagi data menjadi data latih (training set) dan data uji (test set)\n",
        "X_train, X_test, y_train, y_test = train_test_split(X, y, test_size=0.2, random_state=42)\n",
        "\n",
        "# Menampilkan ukuran dataset latih dan uji\n",
        "print(f\"Jumlah data latih: {X_train.shape[0]}\")\n",
        "print(f\"Jumlah data uji: {X_test.shape[0]}\")\n"
      ],
      "metadata": {
        "id": "OubAW-7ONKVj",
        "colab": {
          "base_uri": "https://localhost:8080/"
        },
        "outputId": "aa5a727b-63a3-4a5e-e82d-26c852e2ee8e"
      },
      "execution_count": 11,
      "outputs": [
        {
          "output_type": "stream",
          "name": "stdout",
          "text": [
            "Jumlah data latih: 2009\n",
            "Jumlah data uji: 503\n"
          ]
        }
      ]
    },
    {
      "cell_type": "markdown",
      "source": [
        "# **4. Membangun Model Klasifikasi**\n"
      ],
      "metadata": {
        "id": "IVPbB03CMhTT"
      }
    },
    {
      "cell_type": "markdown",
      "source": [
        "## **a. Membangun Model Klasifikasi**"
      ],
      "metadata": {
        "id": "Ned1pL9zMmBK"
      }
    },
    {
      "cell_type": "markdown",
      "source": [
        "Setelah memilih algoritma klasifikasi yang sesuai, langkah selanjutnya adalah melatih model menggunakan data latih.\n",
        "\n",
        "Berikut adalah rekomendasi tahapannya.\n",
        "1. Pilih algoritma klasifikasi yang sesuai, seperti Logistic Regression, Decision Tree, Random Forest, atau K-Nearest Neighbors (KNN).\n",
        "2. Latih model menggunakan data latih."
      ],
      "metadata": {
        "id": "WAWzPOE4Nkti"
      }
    },
    {
      "cell_type": "code",
      "source": [
        "from sklearn.ensemble import RandomForestClassifier\n",
        "from sklearn.metrics import classification_report, accuracy_score, confusion_matrix\n",
        "\n",
        "# Membuat model klasifikasi Random Forest\n",
        "rf_classifier = RandomForestClassifier(n_estimators=100, random_state=42)\n",
        "\n",
        "# Melatih model dengan data latih\n",
        "rf_classifier.fit(X_train, y_train)\n",
        "\n",
        "# Prediksi pada data uji\n",
        "y_pred = rf_classifier.predict(X_test)\n",
        "\n",
        "# Evaluasi model\n",
        "print(\"Accuracy:\", accuracy_score(y_test, y_pred))\n",
        "print(\"\\nClassification Report:\")\n",
        "print(classification_report(y_test, y_pred))\n",
        "print(\"\\nConfusion Matrix:\")\n",
        "print(confusion_matrix(y_test, y_pred))\n"
      ],
      "metadata": {
        "id": "4JYxBe87NLDk",
        "colab": {
          "base_uri": "https://localhost:8080/"
        },
        "outputId": "db905676-b61b-44e7-ef96-fc361444f6d8"
      },
      "execution_count": 12,
      "outputs": [
        {
          "output_type": "stream",
          "name": "stdout",
          "text": [
            "Accuracy: 0.9840954274353877\n",
            "\n",
            "Classification Report:\n",
            "              precision    recall  f1-score   support\n",
            "\n",
            "           0       0.99      0.98      0.99       386\n",
            "           1       0.94      0.98      0.96       101\n",
            "           2       1.00      1.00      1.00        16\n",
            "\n",
            "    accuracy                           0.98       503\n",
            "   macro avg       0.98      0.99      0.98       503\n",
            "weighted avg       0.98      0.98      0.98       503\n",
            "\n",
            "\n",
            "Confusion Matrix:\n",
            "[[380   6   0]\n",
            " [  2  99   0]\n",
            " [  0   0  16]]\n"
          ]
        }
      ]
    },
    {
      "cell_type": "markdown",
      "source": [
        "Jika Anda ingin menggunakan algoritma lain (seperti Logistic Regression atau K-Nearest Neighbors), Anda bisa mengganti RandomForestClassifier dengan algoritma yang Anda pilih. Misalnya, untuk Logistic Regression:"
      ],
      "metadata": {
        "id": "aJraQQ9GtGi0"
      }
    },
    {
      "cell_type": "code",
      "source": [
        "from sklearn.linear_model import LogisticRegression\n",
        "\n",
        "# Membuat model klasifikasi Logistic Regression\n",
        "log_reg = LogisticRegression(random_state=42)\n",
        "\n",
        "# Melatih model dengan data latih\n",
        "log_reg.fit(X_train, y_train)\n",
        "\n",
        "# Prediksi pada data uji\n",
        "y_pred_log_reg = log_reg.predict(X_test)\n",
        "\n",
        "# Evaluasi model\n",
        "print(\"Accuracy:\", accuracy_score(y_test, y_pred_log_reg))\n",
        "print(\"\\nClassification Report:\")\n",
        "print(classification_report(y_test, y_pred_log_reg))\n",
        "print(\"\\nConfusion Matrix:\")\n",
        "print(confusion_matrix(y_test, y_pred_log_reg))\n"
      ],
      "metadata": {
        "colab": {
          "base_uri": "https://localhost:8080/"
        },
        "id": "XvEskNVstINY",
        "outputId": "023484a1-9d1c-449c-fb5b-b5c5ce4e885e"
      },
      "execution_count": 13,
      "outputs": [
        {
          "output_type": "stream",
          "name": "stdout",
          "text": [
            "Accuracy: 0.9224652087475149\n",
            "\n",
            "Classification Report:\n",
            "              precision    recall  f1-score   support\n",
            "\n",
            "           0       0.95      0.97      0.96       386\n",
            "           1       0.83      0.90      0.87       101\n",
            "           2       0.00      0.00      0.00        16\n",
            "\n",
            "    accuracy                           0.92       503\n",
            "   macro avg       0.59      0.62      0.61       503\n",
            "weighted avg       0.89      0.92      0.91       503\n",
            "\n",
            "\n",
            "Confusion Matrix:\n",
            "[[373  13   0]\n",
            " [ 10  91   0]\n",
            " [ 11   5   0]]\n"
          ]
        },
        {
          "output_type": "stream",
          "name": "stderr",
          "text": [
            "/usr/local/lib/python3.11/dist-packages/sklearn/linear_model/_logistic.py:465: ConvergenceWarning: lbfgs failed to converge (status=1):\n",
            "STOP: TOTAL NO. of ITERATIONS REACHED LIMIT.\n",
            "\n",
            "Increase the number of iterations (max_iter) or scale the data as shown in:\n",
            "    https://scikit-learn.org/stable/modules/preprocessing.html\n",
            "Please also refer to the documentation for alternative solver options:\n",
            "    https://scikit-learn.org/stable/modules/linear_model.html#logistic-regression\n",
            "  n_iter_i = _check_optimize_result(\n",
            "/usr/local/lib/python3.11/dist-packages/sklearn/metrics/_classification.py:1565: UndefinedMetricWarning: Precision is ill-defined and being set to 0.0 in labels with no predicted samples. Use `zero_division` parameter to control this behavior.\n",
            "  _warn_prf(average, modifier, f\"{metric.capitalize()} is\", len(result))\n",
            "/usr/local/lib/python3.11/dist-packages/sklearn/metrics/_classification.py:1565: UndefinedMetricWarning: Precision is ill-defined and being set to 0.0 in labels with no predicted samples. Use `zero_division` parameter to control this behavior.\n",
            "  _warn_prf(average, modifier, f\"{metric.capitalize()} is\", len(result))\n",
            "/usr/local/lib/python3.11/dist-packages/sklearn/metrics/_classification.py:1565: UndefinedMetricWarning: Precision is ill-defined and being set to 0.0 in labels with no predicted samples. Use `zero_division` parameter to control this behavior.\n",
            "  _warn_prf(average, modifier, f\"{metric.capitalize()} is\", len(result))\n"
          ]
        }
      ]
    },
    {
      "cell_type": "markdown",
      "source": [
        "Random Forest Classifier:Hasil Evaluasi Model:\n",
        "\n",
        "Accuracy: 98.41%\n",
        "Classification Report:\n",
        "\n",
        "Precision untuk Cluster 0: 0.99\n",
        "Precision untuk Cluster 1: 0.94\n",
        "Precision untuk Cluster 2: 1.00\n",
        "Confusion Matrix:\n",
        "Menunjukkan bahwa model menghasilkan sebagian besar prediksi yang benar untuk semua kelas, dengan sebagian besar kesalahan terjadi antara Cluster 0 dan Cluster 1."
      ],
      "metadata": {
        "id": "seYoHNY3XU1y"
      }
    },
    {
      "cell_type": "markdown",
      "source": [
        "Menggunakan Algoritma Lain: Logistic Regression, Hasil Evaluasi Model:\n",
        "\n",
        "Accuracy: 92.25%\n",
        "Classification Report:\n",
        "\n",
        "Precision untuk Cluster 0: 0.95\n",
        "Precision untuk Cluster 1: 0.83\n",
        "Precision untuk Cluster 2: 0.00 (karena tidak ada prediksi untuk kelas ini)\n",
        "Confusion Matrix:\n",
        "\n",
        "Cluster 0 cenderung diprediksi dengan sangat baik, namun ada sejumlah kesalahan dalam memprediksi Cluster 1 dan Cluster 2.\n",
        "Penjelasan Mengenai Hasil:\n",
        "Accuracy: Mengukur seberapa sering model menghasilkan prediksi yang benar, dengan Random Forest memberikan hasil yang lebih baik (98.41%) dibandingkan Logistic Regression (92.25%).\n",
        "Classification Report: Memperlihatkan precision, recall, dan F1-score untuk setiap kelas. Random Forest lebih unggul dalam mengklasifikasikan semua kelas, sementara Logistic Regression mengalami kesulitan dalam mengklasifikasikan Cluster 2 dengan benar.\n",
        "Confusion Matrix: Memberikan gambaran visual dari kesalahan prediksi. Meskipun Random Forest menghasilkan sedikit kesalahan, Logistic Regression membuat lebih banyak kesalahan, terutama dalam mengklasifikasikan Cluster 2.\n"
      ],
      "metadata": {
        "id": "oNCnbLxVt0MW"
      }
    },
    {
      "cell_type": "markdown",
      "source": [
        "Kesimpulan:\n",
        "Random Forest Classifier memberikan performa yang lebih baik dibandingkan dengan Logistic Regression dalam hal klasifikasi data ini. Model Random Forest menunjukkan hasil yang lebih baik dalam mengklasifikasikan semua kelas, dengan tingkat akurasi yang sangat tinggi dan F1-score yang lebih seimbang.\n",
        "Logistic Regression menghasilkan akurasi yang lebih rendah dan mengalami kesulitan dalam mengklasifikasikan kelas minoritas (Cluster 2), yang menunjukkan bahwa model tersebut mungkin tidak cukup kompleks untuk menangani data ini secara optimal.\n",
        "Dari hasil tersebut, Random Forest adalah pilihan yang lebih baik untuk klasifikasi data ini."
      ],
      "metadata": {
        "id": "8P0ADGo3t9-O"
      }
    },
    {
      "cell_type": "markdown",
      "source": [
        "## **b. Evaluasi Model Klasifikasi**"
      ],
      "metadata": {
        "id": "ergzChZFEL-O"
      }
    },
    {
      "cell_type": "markdown",
      "source": [
        "Berikut adalah **rekomendasi** tahapannya.\n",
        "1. Lakukan prediksi menggunakan data uji.\n",
        "2. Hitung metrik evaluasi seperti Accuracy dan F1-Score (Opsional: Precision dan Recall).\n",
        "3. Buat confusion matrix untuk melihat detail prediksi benar dan salah."
      ],
      "metadata": {
        "id": "zOm68u-7NpLT"
      }
    },
    {
      "cell_type": "markdown",
      "source": [
        "1. Prediksi Menggunakan Data Uji\n",
        "Setelah model dilatih dengan data latih, langkah berikutnya adalah melakukan prediksi terhadap data uji. Dengan data uji, kita dapat mengukur seberapa baik model tersebut dalam membuat prediksi.\n",
        "\n",
        "2. Metrik Evaluasi: Accuracy, F1-Score, Precision, dan Recall\n",
        "Evaluasi dilakukan menggunakan beberapa metrik utama yang dapat membantu menilai kualitas prediksi:\n",
        "\n",
        "Accuracy: Proporsi prediksi yang benar dari total data.\n",
        "Precision: Mengukur ketepatan prediksi model untuk kelas tertentu, yaitu seberapa banyak prediksi benar dibandingkan dengan jumlah semua prediksi kelas tersebut.\n",
        "Recall: Mengukur kemampuan model untuk menangkap semua data yang benar untuk suatu kelas.\n",
        "F1-Score: Rata-rata harmonik antara precision dan recall, memberikan gambaran tentang keseimbangan antara keduanya.\n",
        "3. Confusion Matrix\n",
        "Confusion Matrix memberikan informasi mendalam tentang prediksi benar dan salah untuk setiap kelas. Ini memperlihatkan bagaimana model membedakan antara kelas-kelas yang ada."
      ],
      "metadata": {
        "id": "nik84K-CuSI9"
      }
    },
    {
      "cell_type": "code",
      "source": [
        "from sklearn.metrics import accuracy_score, classification_report, confusion_matrix\n",
        "\n",
        "# Prediksi menggunakan data uji\n",
        "y_pred = rf_classifier.predict(X_test)  # Untuk Random Forest, atau gunakan log_reg.predict(X_test) untuk Logistic Regression\n",
        "\n",
        "# Evaluasi model: Accuracy\n",
        "accuracy = accuracy_score(y_test, y_pred)\n",
        "print(\"Accuracy:\", accuracy)\n",
        "\n",
        "# Evaluasi model: Classification Report (Precision, Recall, F1-Score)\n",
        "print(\"\\nClassification Report:\")\n",
        "print(classification_report(y_test, y_pred))\n",
        "\n",
        "# Evaluasi model: Confusion Matrix\n",
        "print(\"\\nConfusion Matrix:\")\n",
        "print(confusion_matrix(y_test, y_pred))\n"
      ],
      "metadata": {
        "id": "tMq4QAssNLip",
        "colab": {
          "base_uri": "https://localhost:8080/"
        },
        "outputId": "7fda9b18-71f5-4628-ecf7-db292d48bf6d"
      },
      "execution_count": 14,
      "outputs": [
        {
          "output_type": "stream",
          "name": "stdout",
          "text": [
            "Accuracy: 0.9840954274353877\n",
            "\n",
            "Classification Report:\n",
            "              precision    recall  f1-score   support\n",
            "\n",
            "           0       0.99      0.98      0.99       386\n",
            "           1       0.94      0.98      0.96       101\n",
            "           2       1.00      1.00      1.00        16\n",
            "\n",
            "    accuracy                           0.98       503\n",
            "   macro avg       0.98      0.99      0.98       503\n",
            "weighted avg       0.98      0.98      0.98       503\n",
            "\n",
            "\n",
            "Confusion Matrix:\n",
            "[[380   6   0]\n",
            " [  2  99   0]\n",
            " [  0   0  16]]\n"
          ]
        }
      ]
    },
    {
      "cell_type": "markdown",
      "source": [
        "1. Hasil Evaluasi dengan Random Forest\n",
        "Accuracy:\n",
        "\n",
        "Accuracy: 0.98 (atau 98%)\n",
        "Model Random Forest berhasil mengklasifikasikan data dengan tingkat keberhasilan yang sangat tinggi, yaitu sekitar 98% dari total prediksi.\n",
        "Classification Report:\n",
        "\n",
        "Precision, Recall, dan F1-Score untuk setiap kelas:\n",
        "Cluster 0:\n",
        "Precision: 0.99, Recall: 0.98, F1-Score: 0.99\n",
        "Model sangat baik dalam mengenali kelas 0, dengan hanya sedikit kesalahan.\n",
        "Cluster 1:\n",
        "Precision: 0.94, Recall: 0.98, F1-Score: 0.96\n",
        "Model berhasil mengenali kelas 1 dengan cukup baik, meskipun ada sedikit kesalahan dalam prediksi kelas ini.\n",
        "Cluster 2:\n",
        "Precision: 1.00, Recall: 1.00, F1-Score: 1.00\n",
        "Model sempurna dalam mengenali kelas 2 dengan semua prediksi benar.\n",
        "Average:\n",
        "Macro avg: Precision 0.98, Recall 0.99, F1-Score 0.98\n",
        "Weighted avg: Precision 0.98, Recall 0.98, F1-Score 0.98\n",
        "Model ini menunjukkan performa yang sangat baik pada semua kelas, dengan nilai rata-rata yang sangat tinggi.\n"
      ],
      "metadata": {
        "id": "H4_9OwrsXZlz"
      }
    },
    {
      "cell_type": "markdown",
      "source": [
        "Cluster 0: 380 benar dan 6 salah (prediksi salah untuk kelas 0).\n",
        "Cluster 1: 99 benar dan 2 salah (prediksi salah untuk kelas 1).\n",
        "Cluster 2: 16 benar dan tidak ada kesalahan (100% prediksi benar untuk kelas 2)."
      ],
      "metadata": {
        "id": "fPfEIMyxu34v"
      }
    },
    {
      "cell_type": "markdown",
      "source": [
        "2. Hasil Evaluasi dengan Logistic Regression\n",
        "Accuracy:\n",
        "\n",
        "Accuracy: 0.92 (atau 92%)\n",
        "Model Logistic Regression menghasilkan akurasi 92%, yang lebih rendah dibandingkan dengan Random Forest.\n",
        "Classification Report:\n",
        "\n",
        "Precision, Recall, dan F1-Score untuk setiap kelas:\n",
        "Cluster 0:\n",
        "Precision: 0.95, Recall: 0.97, F1-Score: 0.96\n",
        "Model cukup baik dalam mengenali kelas 0, meskipun ada beberapa kesalahan.\n",
        "Cluster 1:\n",
        "Precision: 0.83, Recall: 0.90, F1-Score: 0.87\n",
        "Model cukup baik mengenali kelas 1, tetapi ada beberapa kesalahan yang lebih besar dibandingkan dengan Random Forest.\n",
        "Cluster 2:\n",
        "Precision: 0.00, Recall: 0.00, F1-Score: 0.00\n",
        "Model gagal mengenali kelas 2, dengan semua prediksi salah.\n",
        "Average:\n",
        "Macro avg: Precision 0.59, Recall 0.62, F1-Score 0.61\n",
        "Weighted avg: Precision 0.89, Recall 0.92, F1-Score 0.91\n",
        "Meskipun rata-rata diukur secara keseluruhan cukup tinggi, nilai untuk Cluster 2 sangat rendah, yang mengindikasikan bahwa model kesulitan mengenali kelas 2.\n"
      ],
      "metadata": {
        "id": "2UM1dolJu7Py"
      }
    },
    {
      "cell_type": "markdown",
      "source": [
        "Cluster 0: 373 benar dan 13 salah (prediksi salah untuk kelas 0).\n",
        "Cluster 1: 91 benar dan 10 salah (prediksi salah untuk kelas 1).\n",
        "Cluster 2: 0 benar dan 16 salah (model tidak dapat mengenali kelas 2 dengan baik)."
      ],
      "metadata": {
        "id": "Ky3nIgspu-by"
      }
    },
    {
      "cell_type": "markdown",
      "source": [
        "## **c. Tuning Model Klasifikasi (Optional)**"
      ],
      "metadata": {
        "id": "ph9yIYDXEPuB"
      }
    },
    {
      "cell_type": "markdown",
      "source": [
        "Gunakan GridSearchCV, RandomizedSearchCV, atau metode lainnya untuk mencari kombinasi hyperparameter terbaik"
      ],
      "metadata": {
        "id": "-Bikx3LINv5e"
      }
    },
    {
      "cell_type": "markdown",
      "source": [
        "1. Melakukan Tuning Model dengan GridSearchCV\n",
        "a. Menyiapkan Parameter Grid untuk Random Forest\n",
        "\n",
        "Kita akan mencoba beberapa kombinasi untuk hyperparameter berikut:\n",
        "\n",
        "n_estimators (Jumlah pohon yang digunakan)\n",
        "max_depth (Maksimal kedalaman pohon)\n",
        "min_samples_split (Jumlah minimum sampel yang diperlukan untuk membagi node)\n",
        "min_samples_leaf (Jumlah minimum sampel di daun)\n",
        "b. Implementasi GridSearchCV"
      ],
      "metadata": {
        "id": "I2cvMwuhvSBo"
      }
    },
    {
      "cell_type": "code",
      "source": [
        "from sklearn.model_selection import GridSearchCV\n",
        "from sklearn.ensemble import RandomForestClassifier\n",
        "\n",
        "# Menyiapkan parameter grid untuk GridSearchCV\n",
        "param_grid = {\n",
        "    'n_estimators': [50, 100, 200],\n",
        "    'max_depth': [None, 10, 20, 30],\n",
        "    'min_samples_split': [2, 5, 10],\n",
        "    'min_samples_leaf': [1, 2, 4]\n",
        "}\n",
        "\n",
        "# Membuat model RandomForest\n",
        "rf_classifier = RandomForestClassifier(random_state=42)\n",
        "\n",
        "# Menyusun GridSearchCV dengan 5-fold cross-validation\n",
        "grid_search = GridSearchCV(estimator=rf_classifier, param_grid=param_grid, cv=5, n_jobs=-1, verbose=2)\n",
        "\n",
        "# Melatih model dengan GridSearchCV\n",
        "grid_search.fit(X_train, y_train)\n",
        "\n",
        "# Menampilkan hasil terbaik\n",
        "print(f\"Best parameters: {grid_search.best_params_}\")\n",
        "print(f\"Best cross-validation score: {grid_search.best_score_}\")\n",
        "\n",
        "# Mendapatkan model terbaik dari grid search\n",
        "best_rf_classifier = grid_search.best_estimator_\n",
        "\n",
        "# Prediksi menggunakan model terbaik\n",
        "y_pred_best = best_rf_classifier.predict(X_test)\n",
        "\n",
        "# Evaluasi model terbaik\n",
        "from sklearn.metrics import accuracy_score, classification_report, confusion_matrix\n",
        "\n",
        "print(\"Accuracy:\", accuracy_score(y_test, y_pred_best))\n",
        "print(\"\\nClassification Report:\")\n",
        "print(classification_report(y_test, y_pred_best))\n",
        "print(\"\\nConfusion Matrix:\")\n",
        "print(confusion_matrix(y_test, y_pred_best))\n"
      ],
      "metadata": {
        "id": "winbFzb8NL95",
        "colab": {
          "base_uri": "https://localhost:8080/"
        },
        "outputId": "dc1f4e4c-15eb-4c8a-8392-5707dd89bf7d"
      },
      "execution_count": 15,
      "outputs": [
        {
          "output_type": "stream",
          "name": "stdout",
          "text": [
            "Fitting 5 folds for each of 108 candidates, totalling 540 fits\n",
            "Best parameters: {'max_depth': None, 'min_samples_leaf': 1, 'min_samples_split': 2, 'n_estimators': 200}\n",
            "Best cross-validation score: 0.9890485229711791\n",
            "Accuracy: 0.9840954274353877\n",
            "\n",
            "Classification Report:\n",
            "              precision    recall  f1-score   support\n",
            "\n",
            "           0       0.99      0.98      0.99       386\n",
            "           1       0.94      0.98      0.96       101\n",
            "           2       1.00      1.00      1.00        16\n",
            "\n",
            "    accuracy                           0.98       503\n",
            "   macro avg       0.98      0.99      0.98       503\n",
            "weighted avg       0.98      0.98      0.98       503\n",
            "\n",
            "\n",
            "Confusion Matrix:\n",
            "[[380   6   0]\n",
            " [  2  99   0]\n",
            " [  0   0  16]]\n"
          ]
        }
      ]
    },
    {
      "cell_type": "markdown",
      "source": [
        "Tuning dengan RandomizedSearchCV (Alternatif"
      ],
      "metadata": {
        "id": "weTTW_JXwl9y"
      }
    },
    {
      "cell_type": "code",
      "source": [
        "from sklearn.model_selection import RandomizedSearchCV\n",
        "\n",
        "# Menyusun parameter distribusi untuk RandomizedSearchCV\n",
        "param_dist = {\n",
        "    'n_estimators': [50, 100, 200, 300],\n",
        "    'max_depth': [None, 10, 20, 30],\n",
        "    'min_samples_split': [2, 5, 10],\n",
        "    'min_samples_leaf': [1, 2, 4]\n",
        "}\n",
        "\n",
        "# Membuat model RandomForest\n",
        "rf_classifier = RandomForestClassifier(random_state=42)\n",
        "\n",
        "# Menyusun RandomizedSearchCV dengan 5-fold cross-validation\n",
        "random_search = RandomizedSearchCV(estimator=rf_classifier, param_distributions=param_dist,\n",
        "                                   n_iter=10, cv=5, n_jobs=-1, verbose=2, random_state=42)\n",
        "\n",
        "# Melatih model dengan RandomizedSearchCV\n",
        "random_search.fit(X_train, y_train)\n",
        "\n",
        "# Menampilkan hasil terbaik\n",
        "print(f\"Best parameters: {random_search.best_params_}\")\n",
        "print(f\"Best cross-validation score: {random_search.best_score_}\")\n",
        "\n",
        "# Mendapatkan model terbaik dari random search\n",
        "best_rf_classifier_random = random_search.best_estimator_\n",
        "\n",
        "# Prediksi menggunakan model terbaik\n",
        "y_pred_best_random = best_rf_classifier_random.predict(X_test)\n",
        "\n",
        "# Evaluasi model terbaik\n",
        "print(\"Accuracy:\", accuracy_score(y_test, y_pred_best_random))\n",
        "print(\"\\nClassification Report:\")\n",
        "print(classification_report(y_test, y_pred_best_random))\n",
        "print(\"\\nConfusion Matrix:\")\n",
        "print(confusion_matrix(y_test, y_pred_best_random))\n"
      ],
      "metadata": {
        "colab": {
          "base_uri": "https://localhost:8080/"
        },
        "id": "acL32-UXwoVD",
        "outputId": "9c7beb39-552d-4614-9c79-7dba2a5d7bb5"
      },
      "execution_count": 16,
      "outputs": [
        {
          "output_type": "stream",
          "name": "stdout",
          "text": [
            "Fitting 5 folds for each of 10 candidates, totalling 50 fits\n",
            "Best parameters: {'n_estimators': 300, 'min_samples_split': 5, 'min_samples_leaf': 2, 'max_depth': None}\n",
            "Best cross-validation score: 0.9890485229711791\n",
            "Accuracy: 0.9821073558648111\n",
            "\n",
            "Classification Report:\n",
            "              precision    recall  f1-score   support\n",
            "\n",
            "           0       0.99      0.98      0.99       386\n",
            "           1       0.94      0.97      0.96       101\n",
            "           2       1.00      1.00      1.00        16\n",
            "\n",
            "    accuracy                           0.98       503\n",
            "   macro avg       0.98      0.98      0.98       503\n",
            "weighted avg       0.98      0.98      0.98       503\n",
            "\n",
            "\n",
            "Confusion Matrix:\n",
            "[[380   6   0]\n",
            " [  3  98   0]\n",
            " [  0   0  16]]\n"
          ]
        }
      ]
    },
    {
      "cell_type": "markdown",
      "source": [
        "## **d. Evaluasi Model Klasifikasi setelah Tuning (Optional)**"
      ],
      "metadata": {
        "id": "hE7pqlEPEYzI"
      }
    },
    {
      "cell_type": "markdown",
      "source": [
        "Berikut adalah rekomendasi tahapannya.\n",
        "1. Gunakan model dengan hyperparameter terbaik.\n",
        "2. Hitung ulang metrik evaluasi untuk melihat apakah ada peningkatan performa."
      ],
      "metadata": {
        "id": "feaPESoeN0zz"
      }
    },
    {
      "cell_type": "code",
      "source": [
        "# Prediksi menggunakan model terbaik yang telah dituning\n",
        "y_pred_best = best_rf_classifier.predict(X_test)\n",
        "\n",
        "# Evaluasi model terbaik\n",
        "from sklearn.metrics import accuracy_score, classification_report, confusion_matrix\n",
        "\n",
        "# Hitung Accuracy\n",
        "accuracy = accuracy_score(y_test, y_pred_best)\n",
        "\n",
        "# Tampilkan Classification Report\n",
        "class_report = classification_report(y_test, y_pred_best)\n",
        "\n",
        "# Tampilkan Confusion Matrix\n",
        "conf_matrix = confusion_matrix(y_test, y_pred_best)\n",
        "\n",
        "# Menampilkan hasil evaluasi\n",
        "print(\"Accuracy:\", accuracy)\n",
        "print(\"\\nClassification Report:\")\n",
        "print(class_report)\n",
        "print(\"\\nConfusion Matrix:\")\n",
        "print(conf_matrix)\n"
      ],
      "metadata": {
        "id": "HTXZRvEeNMb1",
        "colab": {
          "base_uri": "https://localhost:8080/"
        },
        "outputId": "1b552d1e-e062-4a15-e547-8a484745d97f"
      },
      "execution_count": 17,
      "outputs": [
        {
          "output_type": "stream",
          "name": "stdout",
          "text": [
            "Accuracy: 0.9840954274353877\n",
            "\n",
            "Classification Report:\n",
            "              precision    recall  f1-score   support\n",
            "\n",
            "           0       0.99      0.98      0.99       386\n",
            "           1       0.94      0.98      0.96       101\n",
            "           2       1.00      1.00      1.00        16\n",
            "\n",
            "    accuracy                           0.98       503\n",
            "   macro avg       0.98      0.99      0.98       503\n",
            "weighted avg       0.98      0.98      0.98       503\n",
            "\n",
            "\n",
            "Confusion Matrix:\n",
            "[[380   6   0]\n",
            " [  2  99   0]\n",
            " [  0   0  16]]\n"
          ]
        }
      ]
    },
    {
      "cell_type": "markdown",
      "source": [
        "## **e. Analisis Hasil Evaluasi Model Klasifikasi**"
      ],
      "metadata": {
        "id": "ZRsOdm4uEgAW"
      }
    },
    {
      "cell_type": "markdown",
      "source": [
        "Berikut adalah **rekomendasi** tahapannya.\n",
        "1. Bandingkan hasil evaluasi sebelum dan setelah tuning (jika dilakukan).\n",
        "2. Identifikasi kelemahan model, seperti:\n",
        "  - Precision atau Recall rendah untuk kelas tertentu.\n",
        "  - Apakah model mengalami overfitting atau underfitting?\n",
        "3. Berikan rekomendasi tindakan lanjutan, seperti mengumpulkan data tambahan atau mencoba algoritma lain jika hasil belum memuaskan."
      ],
      "metadata": {
        "id": "Hm3BhSi6N4_l"
      }
    },
    {
      "cell_type": "markdown",
      "source": [
        "### Analisis Hasil Evaluasi Model Klasifikasi\n",
        "\n",
        "**1. Perbandingan Hasil Evaluasi Sebelum dan Setelah Tuning:**\n",
        "\n",
        "**Sebelum Tuning:**\n",
        "- **Model Random Forest:**\n",
        "  - **Accuracy:** 98.41%\n",
        "  - **Precision untuk Cluster 0:** 0.99\n",
        "  - **Precision untuk Cluster 1:** 0.94\n",
        "  - **Precision untuk Cluster 2:** 1.00\n",
        "  - **Recall untuk Cluster 0:** 0.98\n",
        "  - **Recall untuk Cluster 1:** 0.98\n",
        "  - **Recall untuk Cluster 2:** 1.00\n",
        "\n",
        "  Model ini sudah menunjukkan performa yang sangat baik. Precision, recall, dan F1-score sangat seimbang untuk semua kelas, dengan model dapat mengenali Cluster 0 dan Cluster 1 dengan sangat baik, serta Cluster 2 dengan sempurna.\n",
        "\n",
        "**Setelah Tuning:**\n",
        "- **Model Random Forest (Tuning menggunakan GridSearchCV):**\n",
        "  - **Accuracy:** 98.41%\n",
        "  - **Precision untuk Cluster 0:** 0.99\n",
        "  - **Precision untuk Cluster 1:** 0.94\n",
        "  - **Precision untuk Cluster 2:** 1.00\n",
        "  - **Recall untuk Cluster 0:** 0.98\n",
        "  - **Recall untuk Cluster 1:** 0.98\n",
        "  - **Recall untuk Cluster 2:** 1.00\n",
        "\n",
        "  **Model Random Forest (Tuning menggunakan RandomizedSearchCV):**\n",
        "  - **Accuracy:** 98.21%\n",
        "  - **Precision untuk Cluster 0:** 0.99\n",
        "  - **Precision untuk Cluster 1:** 0.94\n",
        "  - **Precision untuk Cluster 2:** 1.00\n",
        "  - **Recall untuk Cluster 0:** 0.98\n",
        "  - **Recall untuk Cluster 1:** 0.97\n",
        "  - **Recall untuk Cluster 2:** 1.00\n",
        "\n",
        "  **Hasil:**\n",
        "  - Tuning dengan **GridSearchCV** dan **RandomizedSearchCV** tidak memberikan peningkatan yang signifikan pada akurasi (98.41% menjadi 98.21%).\n",
        "  - Namun, hasil tuning menunjukkan performa yang tetap sangat baik, dan model sudah hampir mencapai performa maksimal.\n",
        "  - Kedua hasil tuning menunjukkan sedikit variasi pada nilai recall untuk Cluster 1, yang sedikit menurun dari 0.98 menjadi 0.97 di RandomizedSearchCV.\n",
        "\n",
        "**2. Identifikasi Kelemahan Model:**\n",
        "\n",
        "- **Precision dan Recall untuk Cluster 1:**\n",
        "  - Pada **Logistic Regression**, terdapat masalah besar dengan Cluster 2, di mana tidak ada prediksi yang benar untuk kelas ini, menghasilkan nilai precision, recall, dan F1-score yang semuanya adalah 0.00. Ini mengindikasikan bahwa model tidak mampu menangani kelas minoritas (Cluster 2).\n",
        "  - Pada **Random Forest**, meskipun akurasi dan metrik lainnya sangat tinggi, model sedikit kesulitan dalam memprediksi kelas 0 dan kelas 1, meskipun kesalahannya relatif kecil (6 untuk Cluster 0, 2 untuk Cluster 1).\n",
        "\n",
        "- **Overfitting atau Underfitting:**\n",
        "  - Model **Random Forest** tidak mengalami overfitting, karena akurasi pada data pelatihan sangat mirip dengan akurasi pada data uji (98.41% untuk training, 98.41% untuk testing).\n",
        "  - Tidak ada indikasi **underfitting** pada Random Forest, karena model menunjukkan performa yang sangat baik pada semua metrik.\n",
        "  - **Logistic Regression** menunjukkan kemungkinan **underfitting** karena akurasi dan kemampuan model sangat terbatas, terutama dalam mengklasifikasikan kelas minoritas (Cluster 2).\n",
        "\n",
        "**3. Rekomendasi Tindakan Lanjutan:**\n",
        "\n",
        "- **Jika Model Belum Memuaskan:**\n",
        "  - **Kumpulkan Data Tambahan:** Jika masalah utama adalah kesulitan dalam mengklasifikasikan kelas minoritas (seperti Cluster 2 dalam Logistic Regression), menambah jumlah data untuk kelas minoritas dapat membantu model mempelajari pola lebih baik.\n",
        "  - **Cobalah Algoritma Lain:** Jika Random Forest sudah memberikan hasil yang sangat baik tetapi masih ada kekurangan pada detail prediksi kelas minoritas, cobalah algoritma lain seperti **XGBoost** atau **LightGBM**, yang dapat memberikan hasil lebih baik dalam masalah klasifikasi yang tidak seimbang.\n",
        "  - **Sampling Teknik untuk Kelas Minoritas:** Anda bisa mencoba **SMOTE (Synthetic Minority Over-sampling Technique)** untuk menangani ketidakseimbangan kelas.\n",
        "  - **Ensemble Methods:** Kombinasi model **ensemble** yang berbeda dapat membantu meningkatkan prediksi kelas minoritas dengan cara yang lebih robust.\n",
        "\n",
        "**Kesimpulan:**  \n",
        "Model **Random Forest** menunjukkan performa yang sangat baik dengan akurasi yang hampir sempurna dan distribusi yang seimbang antara precision dan recall untuk semua kelas. Meskipun tuning dengan GridSearchCV dan RandomizedSearchCV tidak memberikan peningkatan signifikan, model sudah sangat baik. Sementara itu, **Logistic Regression** memiliki kekurangan besar dalam mengklasifikasikan kelas minoritas dan menghasilkan hasil yang jauh lebih rendah dibandingkan dengan Random Forest."
      ],
      "metadata": {
        "id": "6EcuNpDFxfPF"
      }
    }
  ]
}